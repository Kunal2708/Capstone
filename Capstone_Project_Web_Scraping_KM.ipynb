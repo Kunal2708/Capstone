{
 "cells": [
  {
   "cell_type": "markdown",
   "id": "dc29f5e2",
   "metadata": {},
   "source": [
    "Name : Kunal Mody"
   ]
  },
  {
   "cell_type": "markdown",
   "id": "73958585",
   "metadata": {},
   "source": [
    "#### Collect data for all buy/purchased BURGET HOMES/CONDOS/properties using web scraping techniques on the URL below.\n",
    "    •     Vesta Preferred Realty - https://vestapreferred.com/\n",
    "    •     Redfin - https://www.redfin.com/\n",
    "    •     Trulia - https://www.trulia.com/\n",
    "    •     Homes.com - https://www.homes.com/\n",
    "    •     Realtor.com - https://www.realtor.com/\n",
    "    •     Point2Homes - https://www.point2homes.com/\n",
    "    •     Zillow - https://www.zillow.com/\n",
    "    •     Apartments - https://www.apartments.com/\n",
    "    •     Remax - https://www.remax.com/\n",
    "    •    HomeFinder – https://homefinder.com/\n",
    "    •    LoopNet – https://www.loopnet.com/\n",
    "    •    OLX - https://www.olx.in/\n",
    "    •    99acres - https://www.99acres.com/\n",
    "    •     MagicBricks - https://www.magicbricks.com/\n",
    "    •    Housing - https://housing.com/\n",
    "    •    Makaan - https://www.makaan.com/\n",
    "    •    NoBroker - https://www.nobroker.in/\n",
    "    •    Trovit - https://property.trovit.co.in/\n",
    "    •    Quikr - https://www.quikr.com/homes\n",
    "    •     Nestoria - https://www.nestoria.in/\n",
    "    •     Mitula - https://property.mitula.in/\n",
    "    •     Hotpads - https://hotpads.com/\n",
    "    •     Movoto - https://www.movoto.com/\n",
    "    •     Centris – https://www.centris.ca/en\n",
    "    •     Zoopla – https://www.zoopla.co.uk/\n",
    "    •     Rightmove - https://www.rightmove.co.uk/\n",
    "    •     Realestate - https://www.realestate.com.au/\n",
    "    •    RealestateIndia - https://www.realestateindia.com/\n",
    "    •    Savills - https://www.savills.com/\n",
    "    •   Bing - https://www.bing.com/homes?setlang=en-US\n",
    "    •   Global Listing - https://www.globallistings.com/\n",
    "    •   CBRE Group - https://www.cbre.co.in/\n",
    "    •   Christie’s Real Estate - https://www.christiesrealestate.com/\n",
    "\n",
    "##### You can select/scrap data for buy homes /properties from other websites also. \n",
    "###### Important Note – \n",
    "    •        You have to scrap only buy properties Data only .\n",
    "    •        You need to scrap minimum of 3000 entries for your dataset. The more is better.\n",
    "    •        The above 3000 entries should consist of at least 10 different cities.\n",
    "    •        Each city should have minimum of 100 entries in the scraped data.\n",
    "    •        The internal/external features will remain same as mentioned in the original document.\n",
    "    •        Wherever the features are not available should be filled out with null values.\n",
    "    •        Imputation of these null values shall be done purely based on your understanding of the data pattern.\n",
    "    •        The target variable should not contain any null values and no imputation should be done in the target variable. If done, this will attract penalties.\n",
    "    •        The area of the property should be strictly in one unit. You can select any one unit of your choice.\n",
    "    •        The price of rent should be strictly in INR (Indian National Rupee). If the rent price is present in any other currency, it should be converted into INR based on the below mentioned conversion criteria:\n",
    "        o   1 USD = 83.12 INR\n",
    "        o   1 Euro = 90.73 INR\n",
    "        o   1 Swiss Franc = 95.73 INR\n",
    "        o   1 Kuwaiti Dinar = 270.04 INR\n",
    "        o   1 Dirham = 22.63 INR\n",
    "        o   For any other currency, use the latest conversion rates into INR.\n",
    "\n",
    "    •Once the conversion is done on buy  price, round off the number to the nearest whole number.\n",
    "        o   Eg. If the buy  price is 150000 USD\n",
    "        o   The price will be converted to INR first. \n",
    "        o   150000 USD = 150000*83.12 INR = 12468000.50 INR\n",
    "        o   Now the 12468000.50  INR should be converted to nearest whole number i.e 12468000 INR\n",
    "        o   INR 12468000 is the value that should be present in the price feature\n"
   ]
  },
  {
   "cell_type": "code",
   "execution_count": 2,
   "id": "4ee3542a",
   "metadata": {},
   "outputs": [
    {
     "name": "stdout",
     "output_type": "stream",
     "text": [
      "Requirement already satisfied: selenium in c:\\users\\kdmod\\anaconda3\\lib\\site-packages (4.17.2)\n",
      "Requirement already satisfied: typing_extensions>=4.9.0 in c:\\users\\kdmod\\anaconda3\\lib\\site-packages (from selenium) (4.9.0)\n",
      "Requirement already satisfied: trio~=0.17 in c:\\users\\kdmod\\anaconda3\\lib\\site-packages (from selenium) (0.24.0)\n",
      "Requirement already satisfied: urllib3[socks]<3,>=1.26 in c:\\users\\kdmod\\anaconda3\\lib\\site-packages (from selenium) (1.26.14)\n",
      "Requirement already satisfied: certifi>=2021.10.8 in c:\\users\\kdmod\\anaconda3\\lib\\site-packages (from selenium) (2022.12.7)\n",
      "Requirement already satisfied: trio-websocket~=0.9 in c:\\users\\kdmod\\anaconda3\\lib\\site-packages (from selenium) (0.11.1)\n",
      "Requirement already satisfied: sniffio>=1.3.0 in c:\\users\\kdmod\\anaconda3\\lib\\site-packages (from trio~=0.17->selenium) (1.3.0)\n",
      "Requirement already satisfied: outcome in c:\\users\\kdmod\\anaconda3\\lib\\site-packages (from trio~=0.17->selenium) (1.3.0.post0)\n",
      "Requirement already satisfied: exceptiongroup in c:\\users\\kdmod\\anaconda3\\lib\\site-packages (from trio~=0.17->selenium) (1.2.0)\n",
      "Requirement already satisfied: idna in c:\\users\\kdmod\\anaconda3\\lib\\site-packages (from trio~=0.17->selenium) (3.4)\n",
      "Requirement already satisfied: sortedcontainers in c:\\users\\kdmod\\anaconda3\\lib\\site-packages (from trio~=0.17->selenium) (2.4.0)\n",
      "Requirement already satisfied: attrs>=20.1.0 in c:\\users\\kdmod\\anaconda3\\lib\\site-packages (from trio~=0.17->selenium) (22.1.0)\n",
      "Requirement already satisfied: cffi>=1.14 in c:\\users\\kdmod\\anaconda3\\lib\\site-packages (from trio~=0.17->selenium) (1.15.1)\n",
      "Requirement already satisfied: wsproto>=0.14 in c:\\users\\kdmod\\anaconda3\\lib\\site-packages (from trio-websocket~=0.9->selenium) (1.2.0)\n",
      "Requirement already satisfied: PySocks!=1.5.7,<2.0,>=1.5.6 in c:\\users\\kdmod\\anaconda3\\lib\\site-packages (from urllib3[socks]<3,>=1.26->selenium) (1.7.1)\n",
      "Requirement already satisfied: pycparser in c:\\users\\kdmod\\anaconda3\\lib\\site-packages (from cffi>=1.14->trio~=0.17->selenium) (2.21)\n",
      "Requirement already satisfied: h11<1,>=0.9.0 in c:\\users\\kdmod\\anaconda3\\lib\\site-packages (from wsproto>=0.14->trio-websocket~=0.9->selenium) (0.14.0)\n"
     ]
    }
   ],
   "source": [
    "!pip install selenium"
   ]
  },
  {
   "cell_type": "code",
   "execution_count": 3,
   "id": "5fea1c0a",
   "metadata": {},
   "outputs": [],
   "source": [
    "from selenium import webdriver\n",
    "import time\n",
    "from selenium.common.exceptions import NoSuchElementException\n",
    "import warnings\n",
    "warnings.filterwarnings('ignore')\n",
    "from selenium.webdriver.common.by import By\n",
    "from selenium.webdriver.support.ui import WebDriverWait\n",
    "from selenium.webdriver.support import expected_conditions as EC\n",
    "import pandas as pd\n",
    "from selenium.common.exceptions import StaleElementReferenceException\n"
   ]
  },
  {
   "cell_type": "code",
   "execution_count": 4,
   "id": "6c7dd3dd",
   "metadata": {},
   "outputs": [],
   "source": [
    "driver = webdriver.Chrome()\n",
    "driver.get(' https://www.rightmove.co.uk/for-sale/')\n",
    "time.sleep(1)"
   ]
  },
  {
   "cell_type": "code",
   "execution_count": 5,
   "id": "bd8584fc",
   "metadata": {},
   "outputs": [
    {
     "name": "stdout",
     "output_type": "stream",
     "text": [
      "Enter valid City name :london\n"
     ]
    }
   ],
   "source": [
    "city_name = input('Enter valid City name :')"
   ]
  },
  {
   "cell_type": "code",
   "execution_count": 6,
   "id": "55bcb5ff",
   "metadata": {},
   "outputs": [],
   "source": [
    "search = driver.find_element(By.XPATH,'//input[@class=\"searchBox ac_input\"]')\n",
    "search.send_keys(city_name)"
   ]
  },
  {
   "cell_type": "code",
   "execution_count": 7,
   "id": "b3704182",
   "metadata": {},
   "outputs": [],
   "source": [
    "s_button = driver.find_element(By.XPATH,'//input[@class=\"button \"][1]')\n",
    "s_button.click()"
   ]
  },
  {
   "cell_type": "code",
   "execution_count": 8,
   "id": "127530c9",
   "metadata": {},
   "outputs": [],
   "source": [
    "f_button = driver.find_element(By.XPATH,'//button[@class=\"button touchsearch-button touchsearch-primarybutton\"]')\n",
    "f_button.click()"
   ]
  },
  {
   "cell_type": "code",
   "execution_count": 9,
   "id": "1d87dafc",
   "metadata": {},
   "outputs": [],
   "source": [
    "name_address=[]\n",
    "p_type =[]\n",
    "bedroom =[]\n",
    "price=[]"
   ]
  },
  {
   "cell_type": "code",
   "execution_count": 10,
   "id": "1fedd6bc",
   "metadata": {},
   "outputs": [],
   "source": [
    "start =0\n",
    "end=25\n",
    "\n",
    "for page in range(start,end):\n",
    "    try:\n",
    "        pname = driver.find_elements(By.XPATH,'//address[@class=\"propertyCard-address property-card-updates\"]')\n",
    "        for i in pname:\n",
    "            name_address.append(i.text)\n",
    "    except NoSuchElementException:\n",
    "        name_address.append('-')\n",
    "\n",
    "    try:\n",
    "        ptype = driver.find_elements(By.XPATH,'//div[@class=\"property-information\"]/span[1]')\n",
    "        \n",
    "        for i in ptype:\n",
    "            p_type.append(i.text)\n",
    "    except NoSuchElementException:\n",
    "        p_type.append('-')\n",
    "\n",
    "    try:\n",
    "        bed = driver.find_elements(By.XPATH,'//div[@class=\"property-information\"]/span[3]')\n",
    "        for i in bed:\n",
    "            bedroom.append(i.text)\n",
    "    except NoSuchElementException:\n",
    "        bedroom.append('-')\n",
    "\n",
    "    try:\n",
    "        p_price= driver.find_elements(By.XPATH,'//div[@class=\"propertyCard-priceValue\"]')\n",
    "        for i in p_price:\n",
    "            price.append(i.text)\n",
    "    except NoSuchElementException:\n",
    "        price.append('-')\n",
    "    \n",
    "    next_button=driver.find_element(By.XPATH,'//button[@class=\"pagination-button pagination-direction pagination-direction--next\"]')\n",
    "    next_button.click()\n",
    "    time.sleep(1)\n",
    "    "
   ]
  },
  {
   "cell_type": "markdown",
   "id": "de8cc0b6",
   "metadata": {},
   "source": [
    "df = pd.DataFrame({'Property_Name':name_address,'Prices':price,'No_Of_Bedroom': bedroom,'Property_Type': p_type})\n",
    "df"
   ]
  },
  {
   "cell_type": "code",
   "execution_count": 11,
   "id": "a930c549",
   "metadata": {},
   "outputs": [
    {
     "data": {
      "text/plain": [
       "(625, 625, 617, 625)"
      ]
     },
     "execution_count": 11,
     "metadata": {},
     "output_type": "execute_result"
    }
   ],
   "source": [
    "len(price), len(p_type), len(bedroom),len(name_address)"
   ]
  },
  {
   "cell_type": "code",
   "execution_count": 14,
   "id": "2081e5d5",
   "metadata": {},
   "outputs": [],
   "source": [
    "#driver.close()"
   ]
  },
  {
   "cell_type": "code",
   "execution_count": 12,
   "id": "7499a346",
   "metadata": {},
   "outputs": [],
   "source": [
    "#driver = webdriver.Chrome()\n",
    "driver.get('https://www.purplebricks.co.uk/buyers')"
   ]
  },
  {
   "cell_type": "code",
   "execution_count": 13,
   "id": "656357e9",
   "metadata": {},
   "outputs": [
    {
     "name": "stdout",
     "output_type": "stream",
     "text": [
      "Enter UK city name : bristol\n"
     ]
    }
   ],
   "source": [
    "area = input('Enter UK city name : ')"
   ]
  },
  {
   "cell_type": "code",
   "execution_count": 14,
   "id": "27b72e44",
   "metadata": {},
   "outputs": [],
   "source": [
    "search1 = driver.find_element(By.XPATH,'//div[@class=\"p_container_3LyH p_inner_1XFx\"]/form/div/input')\n",
    "search1.send_keys(area)"
   ]
  },
  {
   "cell_type": "code",
   "execution_count": 15,
   "id": "bc66e8e7",
   "metadata": {},
   "outputs": [],
   "source": [
    "button1 = driver.find_element(By.XPATH,'//div[@class=\"p_container_3LyH p_inner_1XFx\"]/form/div/button')\n",
    "button1.click()"
   ]
  },
  {
   "cell_type": "code",
   "execution_count": null,
   "id": "ff118e63",
   "metadata": {},
   "outputs": [],
   "source": []
  },
  {
   "cell_type": "code",
   "execution_count": 16,
   "id": "91473d9e",
   "metadata": {},
   "outputs": [],
   "source": [
    "start =0\n",
    "end=25\n",
    "for page in range(start,end):\n",
    "    try:\n",
    "        pname = driver.find_elements(By.XPATH,'//span[@class=\"property-cardstyled__StyledAddress-sc-15g6092-10 bNBhdD\"]')\n",
    "        for i in pname:\n",
    "            name_address.append(i.text)\n",
    "    except NoSuchElementException:\n",
    "        name_address.append('-')\n",
    "    \n",
    "    try:\n",
    "        ptype = driver.find_elements(By.XPATH,'//span[@class=\"property-cardstyled__StyledTitle-sc-15g6092-9 gbsnAK\"]')\n",
    "        for i in ptype:\n",
    "            p_type.append(i.text)\n",
    "    except NoSuchElementException:\n",
    "        p_type.append('-')\n",
    "    \n",
    "    try:\n",
    "        bed = driver.find_elements(By.XPATH,'//span[@class=\"property-cardstyled__StyledTitle-sc-15g6092-9 gbsnAK\"]/strong')\n",
    "        for i in bed:\n",
    "            bedroom.append(i.text)\n",
    "    except NoSuchElementException:\n",
    "        bedroom.append('-')\n",
    "           \n",
    "    try:\n",
    "        p_price= driver.find_elements(By.XPATH,'//strong[@class=\"property-cardstyled__StyledPrice-sc-15g6092-7 iCxizR\"]')\n",
    "        for i in p_price:\n",
    "            price.append(i.text)\n",
    "    except NoSuchElementException:\n",
    "        price.append('-')\n",
    "    next_button=driver.find_element(By.XPATH,'/html/body/div[1]/main/div/div[1]/div/nav/ol/li[7]/button')\n",
    "    next_button.click()\n",
    "    time.sleep(1)"
   ]
  },
  {
   "cell_type": "code",
   "execution_count": 17,
   "id": "175fae33",
   "metadata": {},
   "outputs": [
    {
     "data": {
      "text/plain": [
       "(875, 867, 875, 875)"
      ]
     },
     "execution_count": 17,
     "metadata": {},
     "output_type": "execute_result"
    }
   ],
   "source": [
    "len(price),len(bedroom),len(p_type),len(name_address)"
   ]
  },
  {
   "cell_type": "code",
   "execution_count": 28,
   "id": "bb5a4296",
   "metadata": {},
   "outputs": [],
   "source": [
    "#driver.close()"
   ]
  },
  {
   "cell_type": "code",
   "execution_count": 18,
   "id": "ef23fd3a",
   "metadata": {},
   "outputs": [],
   "source": [
    "#driver = webdriver.Chrome()\n",
    "driver.get('https://www.haart.co.uk/buying/')"
   ]
  },
  {
   "cell_type": "code",
   "execution_count": 19,
   "id": "de1ff823",
   "metadata": {},
   "outputs": [
    {
     "name": "stdout",
     "output_type": "stream",
     "text": [
      "Enter City Name :aylesbury\n"
     ]
    }
   ],
   "source": [
    "area1 = input('Enter City Name :')"
   ]
  },
  {
   "cell_type": "code",
   "execution_count": 21,
   "id": "6c48e6e1",
   "metadata": {},
   "outputs": [],
   "source": [
    "search2 = driver.find_element(By.XPATH,'//input[@class=\"form-control left-input ng-pristine ng-valid ng-touched\"]')\n",
    "search2.send_keys(area1)"
   ]
  },
  {
   "cell_type": "code",
   "execution_count": 22,
   "id": "c1b53d51",
   "metadata": {},
   "outputs": [],
   "source": [
    "button2 = driver.find_element(By.XPATH,'//button[@class=\"btn btn-lg c1-bg c5-text right-button\"]')\n",
    "button2.click()"
   ]
  },
  {
   "cell_type": "code",
   "execution_count": null,
   "id": "75d649f2",
   "metadata": {},
   "outputs": [],
   "source": []
  },
  {
   "cell_type": "code",
   "execution_count": 23,
   "id": "2ce55521",
   "metadata": {},
   "outputs": [
    {
     "ename": "NoSuchElementException",
     "evalue": "Message: no such element: Unable to locate element: {\"method\":\"xpath\",\"selector\":\"//ul[@class=\"pagination\"]/li[4]/a\"}\n  (Session info: chrome=125.0.6422.142); For documentation on this error, please visit: https://www.selenium.dev/documentation/webdriver/troubleshooting/errors#no-such-element-exception\nStacktrace:\n\tGetHandleVerifier [0x00007FF6FB8F1F52+60322]\n\t(No symbol) [0x00007FF6FB86CEC9]\n\t(No symbol) [0x00007FF6FB727EBA]\n\t(No symbol) [0x00007FF6FB777676]\n\t(No symbol) [0x00007FF6FB77773C]\n\t(No symbol) [0x00007FF6FB7BE967]\n\t(No symbol) [0x00007FF6FB79C25F]\n\t(No symbol) [0x00007FF6FB7BBC80]\n\t(No symbol) [0x00007FF6FB79BFC3]\n\t(No symbol) [0x00007FF6FB769617]\n\t(No symbol) [0x00007FF6FB76A211]\n\tGetHandleVerifier [0x00007FF6FBC094AD+3301629]\n\tGetHandleVerifier [0x00007FF6FBC536D3+3605283]\n\tGetHandleVerifier [0x00007FF6FBC49450+3563680]\n\tGetHandleVerifier [0x00007FF6FB9A4326+790390]\n\t(No symbol) [0x00007FF6FB87750F]\n\t(No symbol) [0x00007FF6FB873404]\n\t(No symbol) [0x00007FF6FB873592]\n\t(No symbol) [0x00007FF6FB862F9F]\n\tBaseThreadInitThunk [0x00007FFF7136257D+29]\n\tRtlUserThreadStart [0x00007FFF716EAF28+40]\n",
     "output_type": "error",
     "traceback": [
      "\u001b[1;31m---------------------------------------------------------------------------\u001b[0m",
      "\u001b[1;31mNoSuchElementException\u001b[0m                    Traceback (most recent call last)",
      "Cell \u001b[1;32mIn[23], line 31\u001b[0m\n\u001b[0;32m     29\u001b[0m \u001b[38;5;28;01mexcept\u001b[39;00m NoSuchElementException:\n\u001b[0;32m     30\u001b[0m     price\u001b[38;5;241m.\u001b[39mappend(\u001b[38;5;124m'\u001b[39m\u001b[38;5;124m-\u001b[39m\u001b[38;5;124m'\u001b[39m)\n\u001b[1;32m---> 31\u001b[0m next_button\u001b[38;5;241m=\u001b[39m\u001b[43mdriver\u001b[49m\u001b[38;5;241;43m.\u001b[39;49m\u001b[43mfind_element\u001b[49m\u001b[43m(\u001b[49m\u001b[43mBy\u001b[49m\u001b[38;5;241;43m.\u001b[39;49m\u001b[43mXPATH\u001b[49m\u001b[43m,\u001b[49m\u001b[38;5;124;43m'\u001b[39;49m\u001b[38;5;124;43m//ul[@class=\u001b[39;49m\u001b[38;5;124;43m\"\u001b[39;49m\u001b[38;5;124;43mpagination\u001b[39;49m\u001b[38;5;124;43m\"\u001b[39;49m\u001b[38;5;124;43m]/li[4]/a\u001b[39;49m\u001b[38;5;124;43m'\u001b[39;49m\u001b[43m)\u001b[49m\n\u001b[0;32m     32\u001b[0m next_button\u001b[38;5;241m.\u001b[39mclick()\n\u001b[0;32m     33\u001b[0m time\u001b[38;5;241m.\u001b[39msleep(\u001b[38;5;241m1\u001b[39m)\n",
      "File \u001b[1;32m~\\anaconda3\\lib\\site-packages\\selenium\\webdriver\\remote\\webdriver.py:741\u001b[0m, in \u001b[0;36mWebDriver.find_element\u001b[1;34m(self, by, value)\u001b[0m\n\u001b[0;32m    738\u001b[0m     by \u001b[38;5;241m=\u001b[39m By\u001b[38;5;241m.\u001b[39mCSS_SELECTOR\n\u001b[0;32m    739\u001b[0m     value \u001b[38;5;241m=\u001b[39m \u001b[38;5;124mf\u001b[39m\u001b[38;5;124m'\u001b[39m\u001b[38;5;124m[name=\u001b[39m\u001b[38;5;124m\"\u001b[39m\u001b[38;5;132;01m{\u001b[39;00mvalue\u001b[38;5;132;01m}\u001b[39;00m\u001b[38;5;124m\"\u001b[39m\u001b[38;5;124m]\u001b[39m\u001b[38;5;124m'\u001b[39m\n\u001b[1;32m--> 741\u001b[0m \u001b[38;5;28;01mreturn\u001b[39;00m \u001b[38;5;28;43mself\u001b[39;49m\u001b[38;5;241;43m.\u001b[39;49m\u001b[43mexecute\u001b[49m\u001b[43m(\u001b[49m\u001b[43mCommand\u001b[49m\u001b[38;5;241;43m.\u001b[39;49m\u001b[43mFIND_ELEMENT\u001b[49m\u001b[43m,\u001b[49m\u001b[43m \u001b[49m\u001b[43m{\u001b[49m\u001b[38;5;124;43m\"\u001b[39;49m\u001b[38;5;124;43musing\u001b[39;49m\u001b[38;5;124;43m\"\u001b[39;49m\u001b[43m:\u001b[49m\u001b[43m \u001b[49m\u001b[43mby\u001b[49m\u001b[43m,\u001b[49m\u001b[43m \u001b[49m\u001b[38;5;124;43m\"\u001b[39;49m\u001b[38;5;124;43mvalue\u001b[39;49m\u001b[38;5;124;43m\"\u001b[39;49m\u001b[43m:\u001b[49m\u001b[43m \u001b[49m\u001b[43mvalue\u001b[49m\u001b[43m}\u001b[49m\u001b[43m)\u001b[49m[\u001b[38;5;124m\"\u001b[39m\u001b[38;5;124mvalue\u001b[39m\u001b[38;5;124m\"\u001b[39m]\n",
      "File \u001b[1;32m~\\anaconda3\\lib\\site-packages\\selenium\\webdriver\\remote\\webdriver.py:347\u001b[0m, in \u001b[0;36mWebDriver.execute\u001b[1;34m(self, driver_command, params)\u001b[0m\n\u001b[0;32m    345\u001b[0m response \u001b[38;5;241m=\u001b[39m \u001b[38;5;28mself\u001b[39m\u001b[38;5;241m.\u001b[39mcommand_executor\u001b[38;5;241m.\u001b[39mexecute(driver_command, params)\n\u001b[0;32m    346\u001b[0m \u001b[38;5;28;01mif\u001b[39;00m response:\n\u001b[1;32m--> 347\u001b[0m     \u001b[38;5;28;43mself\u001b[39;49m\u001b[38;5;241;43m.\u001b[39;49m\u001b[43merror_handler\u001b[49m\u001b[38;5;241;43m.\u001b[39;49m\u001b[43mcheck_response\u001b[49m\u001b[43m(\u001b[49m\u001b[43mresponse\u001b[49m\u001b[43m)\u001b[49m\n\u001b[0;32m    348\u001b[0m     response[\u001b[38;5;124m\"\u001b[39m\u001b[38;5;124mvalue\u001b[39m\u001b[38;5;124m\"\u001b[39m] \u001b[38;5;241m=\u001b[39m \u001b[38;5;28mself\u001b[39m\u001b[38;5;241m.\u001b[39m_unwrap_value(response\u001b[38;5;241m.\u001b[39mget(\u001b[38;5;124m\"\u001b[39m\u001b[38;5;124mvalue\u001b[39m\u001b[38;5;124m\"\u001b[39m, \u001b[38;5;28;01mNone\u001b[39;00m))\n\u001b[0;32m    349\u001b[0m     \u001b[38;5;28;01mreturn\u001b[39;00m response\n",
      "File \u001b[1;32m~\\anaconda3\\lib\\site-packages\\selenium\\webdriver\\remote\\errorhandler.py:229\u001b[0m, in \u001b[0;36mErrorHandler.check_response\u001b[1;34m(self, response)\u001b[0m\n\u001b[0;32m    227\u001b[0m         alert_text \u001b[38;5;241m=\u001b[39m value[\u001b[38;5;124m\"\u001b[39m\u001b[38;5;124malert\u001b[39m\u001b[38;5;124m\"\u001b[39m]\u001b[38;5;241m.\u001b[39mget(\u001b[38;5;124m\"\u001b[39m\u001b[38;5;124mtext\u001b[39m\u001b[38;5;124m\"\u001b[39m)\n\u001b[0;32m    228\u001b[0m     \u001b[38;5;28;01mraise\u001b[39;00m exception_class(message, screen, stacktrace, alert_text)  \u001b[38;5;66;03m# type: ignore[call-arg]  # mypy is not smart enough here\u001b[39;00m\n\u001b[1;32m--> 229\u001b[0m \u001b[38;5;28;01mraise\u001b[39;00m exception_class(message, screen, stacktrace)\n",
      "\u001b[1;31mNoSuchElementException\u001b[0m: Message: no such element: Unable to locate element: {\"method\":\"xpath\",\"selector\":\"//ul[@class=\"pagination\"]/li[4]/a\"}\n  (Session info: chrome=125.0.6422.142); For documentation on this error, please visit: https://www.selenium.dev/documentation/webdriver/troubleshooting/errors#no-such-element-exception\nStacktrace:\n\tGetHandleVerifier [0x00007FF6FB8F1F52+60322]\n\t(No symbol) [0x00007FF6FB86CEC9]\n\t(No symbol) [0x00007FF6FB727EBA]\n\t(No symbol) [0x00007FF6FB777676]\n\t(No symbol) [0x00007FF6FB77773C]\n\t(No symbol) [0x00007FF6FB7BE967]\n\t(No symbol) [0x00007FF6FB79C25F]\n\t(No symbol) [0x00007FF6FB7BBC80]\n\t(No symbol) [0x00007FF6FB79BFC3]\n\t(No symbol) [0x00007FF6FB769617]\n\t(No symbol) [0x00007FF6FB76A211]\n\tGetHandleVerifier [0x00007FF6FBC094AD+3301629]\n\tGetHandleVerifier [0x00007FF6FBC536D3+3605283]\n\tGetHandleVerifier [0x00007FF6FBC49450+3563680]\n\tGetHandleVerifier [0x00007FF6FB9A4326+790390]\n\t(No symbol) [0x00007FF6FB87750F]\n\t(No symbol) [0x00007FF6FB873404]\n\t(No symbol) [0x00007FF6FB873592]\n\t(No symbol) [0x00007FF6FB862F9F]\n\tBaseThreadInitThunk [0x00007FFF7136257D+29]\n\tRtlUserThreadStart [0x00007FFF716EAF28+40]\n"
     ]
    }
   ],
   "source": [
    "start =0\n",
    "end = 4\n",
    "for page in range(start,end):\n",
    "    try:\n",
    "        pname = driver.find_elements(By.XPATH,'//label[@class=\"propBeds\"]')\n",
    "        for i in pname:\n",
    "            name_address.append(i.text)\n",
    "    except NoSuchElementException:\n",
    "        name_address.append('-')\n",
    "    \n",
    "    try:\n",
    "        ptype = driver.find_elements(By.XPATH,'//label[@class=\"propAida\"]')\n",
    "        for i in ptype:\n",
    "            p_type.append(i.text)\n",
    "    except NoSuchElementException:\n",
    "        p_type.append('-')\n",
    "    \n",
    "    try:\n",
    "        bed = driver.find_elements(By.XPATH,'//label[@class=\"propBeds\"]')\n",
    "        for i in bed:\n",
    "            bedroom.append(i.text)\n",
    "    except NoSuchElementException:\n",
    "        bedroom.append('-')\n",
    "           \n",
    "    try:\n",
    "        p_price= driver.find_elements(By.XPATH,'//label[@class=\"propPrice\"]')\n",
    "        for i in p_price:\n",
    "            price.append(i.text)\n",
    "    except NoSuchElementException:\n",
    "        price.append('-')\n",
    "    next_button=driver.find_element(By.XPATH,'//ul[@class=\"pagination\"]/li[4]/a')\n",
    "    next_button.click()\n",
    "    time.sleep(1)"
   ]
  },
  {
   "cell_type": "code",
   "execution_count": 24,
   "id": "d0ecdef7",
   "metadata": {},
   "outputs": [
    {
     "data": {
      "text/plain": [
       "(1005, 998, 1005, 1006)"
      ]
     },
     "execution_count": 24,
     "metadata": {},
     "output_type": "execute_result"
    }
   ],
   "source": [
    "len(price),len(bedroom),len(p_type),len(name_address)"
   ]
  },
  {
   "cell_type": "code",
   "execution_count": 29,
   "id": "86c31d29",
   "metadata": {},
   "outputs": [],
   "source": [
    "#driver.close()"
   ]
  },
  {
   "cell_type": "code",
   "execution_count": 25,
   "id": "00104e36",
   "metadata": {},
   "outputs": [],
   "source": [
    "#driver= webdriver.Chrome()\n",
    "driver.get('https://www.onthemarket.com/for-sale/')"
   ]
  },
  {
   "cell_type": "code",
   "execution_count": 26,
   "id": "b5e5bcae",
   "metadata": {},
   "outputs": [
    {
     "name": "stdout",
     "output_type": "stream",
     "text": [
      "Enter city Name : hatfield\n"
     ]
    }
   ],
   "source": [
    "area2= input('Enter city Name : ')"
   ]
  },
  {
   "cell_type": "code",
   "execution_count": 27,
   "id": "f979e120",
   "metadata": {},
   "outputs": [],
   "source": [
    "search3 = driver.find_element(By.XPATH,'//input[@class=\"landing-search-input landing-search-input--with-btn\"]')\n",
    "search3.send_keys(area2)"
   ]
  },
  {
   "cell_type": "code",
   "execution_count": 28,
   "id": "80200af6",
   "metadata": {},
   "outputs": [],
   "source": [
    "button3 = driver.find_element(By.XPATH,'//button[@class=\"otm-Button whitespace-nowrap py-2 leading-normal h-auto shadow-none font-heading font-semibold text-center justify-center inline-flex items-center px-8 rounded-md border-2 disabled:bg-dove disabled:text-white disabled:border-transparent hover:disabled:opacity-100 transition duration-200 ease-in-out border-burnt-coral bg-burnt-coral text-white hover:opacity-80 rounded-bl-none rounded-tl-none rounded-tr-lg rounded-br-lg px-4 !min-h-0 md:px-5 min-h-[52px] text-md md:min-h-[70px] sm:text-base2 \"]')\n",
    "button3.click()"
   ]
  },
  {
   "cell_type": "code",
   "execution_count": 47,
   "id": "ab7c0773",
   "metadata": {},
   "outputs": [],
   "source": []
  },
  {
   "cell_type": "code",
   "execution_count": 29,
   "id": "aed5f595",
   "metadata": {},
   "outputs": [],
   "source": [
    "start = 0\n",
    "end = 40\n",
    "for page in range(start,end):\n",
    "    try:\n",
    "        pname = driver.find_elements(By.XPATH,'//span[@class=\"address\"]/a')\n",
    "        for i in pname:\n",
    "            name_address.append(i.text)\n",
    "    except NoSuchElementException:\n",
    "        name_address.append('-')\n",
    "    \n",
    "    try:\n",
    "        ptype = driver.find_elements(By.XPATH,'//span[@class=\"title\"]')\n",
    "        for i in ptype:\n",
    "            p_type.append(i.text)\n",
    "    except NoSuchElementException:\n",
    "        p_type.append('-')\n",
    "    \n",
    "    try:\n",
    "        bed = driver.find_elements(By.XPATH,'//div[@class=\"otm-BedBathCount flex items-center\"]/div[1]')\n",
    "        for i in bed:\n",
    "            bedroom.append(i.text)\n",
    "    except NoSuchElementException:\n",
    "        bedroom.append('-')\n",
    "           \n",
    "    try:\n",
    "        p_price= driver.find_elements(By.XPATH,'//a[@class=\"mb-0 text-lg font-bold text-denim price\"]')\n",
    "        for i in p_price:\n",
    "            price.append(i.text)\n",
    "    except NoSuchElementException:\n",
    "        price.append('-')\n",
    "    next_button=driver.find_element(By.XPATH,'//a[@class=\"order-last\"]')\n",
    "    next_button.click()\n",
    "    time.sleep(1)"
   ]
  },
  {
   "cell_type": "code",
   "execution_count": 30,
   "id": "d6648989",
   "metadata": {},
   "outputs": [
    {
     "data": {
      "text/plain": [
       "(1965, 1958, 1965, 1966)"
      ]
     },
     "execution_count": 30,
     "metadata": {},
     "output_type": "execute_result"
    }
   ],
   "source": [
    "len(price),len(bedroom),len(p_type),len(name_address)"
   ]
  },
  {
   "cell_type": "code",
   "execution_count": 31,
   "id": "1736010a",
   "metadata": {},
   "outputs": [],
   "source": [
    "driver.get('https://www.onthemarket.com/for-sale/')"
   ]
  },
  {
   "cell_type": "code",
   "execution_count": 32,
   "id": "161e620c",
   "metadata": {},
   "outputs": [
    {
     "name": "stdout",
     "output_type": "stream",
     "text": [
      "Enter city Name : hitchen\n"
     ]
    }
   ],
   "source": [
    "a= input('Enter city Name : ')"
   ]
  },
  {
   "cell_type": "code",
   "execution_count": 33,
   "id": "09e0f95a",
   "metadata": {},
   "outputs": [],
   "source": [
    "search3 = driver.find_element(By.XPATH,'//input[@class=\"landing-search-input landing-search-input--with-btn\"]')\n",
    "search3.send_keys(a)"
   ]
  },
  {
   "cell_type": "code",
   "execution_count": 34,
   "id": "2e348a2f",
   "metadata": {},
   "outputs": [],
   "source": [
    "button3 = driver.find_element(By.XPATH,'//button[@class=\"otm-Button whitespace-nowrap py-2 leading-normal h-auto shadow-none font-heading font-semibold text-center justify-center inline-flex items-center px-8 rounded-md border-2 disabled:bg-dove disabled:text-white disabled:border-transparent hover:disabled:opacity-100 transition duration-200 ease-in-out border-burnt-coral bg-burnt-coral text-white hover:opacity-80 rounded-bl-none rounded-tl-none rounded-tr-lg rounded-br-lg px-4 !min-h-0 md:px-5 min-h-[52px] text-md md:min-h-[70px] sm:text-base2 \"]')\n",
    "button3.click()"
   ]
  },
  {
   "cell_type": "code",
   "execution_count": 35,
   "id": "8c6a35cd",
   "metadata": {},
   "outputs": [
    {
     "ename": "NoSuchElementException",
     "evalue": "Message: no such element: Unable to locate element: {\"method\":\"xpath\",\"selector\":\"//a[@class=\"order-last\"]\"}\n  (Session info: chrome=125.0.6422.142); For documentation on this error, please visit: https://www.selenium.dev/documentation/webdriver/troubleshooting/errors#no-such-element-exception\nStacktrace:\n\tGetHandleVerifier [0x00007FF6FB8F1F52+60322]\n\t(No symbol) [0x00007FF6FB86CEC9]\n\t(No symbol) [0x00007FF6FB727EBA]\n\t(No symbol) [0x00007FF6FB777676]\n\t(No symbol) [0x00007FF6FB77773C]\n\t(No symbol) [0x00007FF6FB7BE967]\n\t(No symbol) [0x00007FF6FB79C25F]\n\t(No symbol) [0x00007FF6FB7BBC80]\n\t(No symbol) [0x00007FF6FB79BFC3]\n\t(No symbol) [0x00007FF6FB769617]\n\t(No symbol) [0x00007FF6FB76A211]\n\tGetHandleVerifier [0x00007FF6FBC094AD+3301629]\n\tGetHandleVerifier [0x00007FF6FBC536D3+3605283]\n\tGetHandleVerifier [0x00007FF6FBC49450+3563680]\n\tGetHandleVerifier [0x00007FF6FB9A4326+790390]\n\t(No symbol) [0x00007FF6FB87750F]\n\t(No symbol) [0x00007FF6FB873404]\n\t(No symbol) [0x00007FF6FB873592]\n\t(No symbol) [0x00007FF6FB862F9F]\n\tBaseThreadInitThunk [0x00007FFF7136257D+29]\n\tRtlUserThreadStart [0x00007FFF716EAF28+40]\n",
     "output_type": "error",
     "traceback": [
      "\u001b[1;31m---------------------------------------------------------------------------\u001b[0m",
      "\u001b[1;31mNoSuchElementException\u001b[0m                    Traceback (most recent call last)",
      "Cell \u001b[1;32mIn[35], line 31\u001b[0m\n\u001b[0;32m     29\u001b[0m \u001b[38;5;28;01mexcept\u001b[39;00m NoSuchElementException:\n\u001b[0;32m     30\u001b[0m     price\u001b[38;5;241m.\u001b[39mappend(\u001b[38;5;124m'\u001b[39m\u001b[38;5;124m-\u001b[39m\u001b[38;5;124m'\u001b[39m)\n\u001b[1;32m---> 31\u001b[0m next_button\u001b[38;5;241m=\u001b[39m\u001b[43mdriver\u001b[49m\u001b[38;5;241;43m.\u001b[39;49m\u001b[43mfind_element\u001b[49m\u001b[43m(\u001b[49m\u001b[43mBy\u001b[49m\u001b[38;5;241;43m.\u001b[39;49m\u001b[43mXPATH\u001b[49m\u001b[43m,\u001b[49m\u001b[38;5;124;43m'\u001b[39;49m\u001b[38;5;124;43m//a[@class=\u001b[39;49m\u001b[38;5;124;43m\"\u001b[39;49m\u001b[38;5;124;43morder-last\u001b[39;49m\u001b[38;5;124;43m\"\u001b[39;49m\u001b[38;5;124;43m]\u001b[39;49m\u001b[38;5;124;43m'\u001b[39;49m\u001b[43m)\u001b[49m\n\u001b[0;32m     32\u001b[0m next_button\u001b[38;5;241m.\u001b[39mclick()\n\u001b[0;32m     33\u001b[0m time\u001b[38;5;241m.\u001b[39msleep(\u001b[38;5;241m1\u001b[39m)\n",
      "File \u001b[1;32m~\\anaconda3\\lib\\site-packages\\selenium\\webdriver\\remote\\webdriver.py:741\u001b[0m, in \u001b[0;36mWebDriver.find_element\u001b[1;34m(self, by, value)\u001b[0m\n\u001b[0;32m    738\u001b[0m     by \u001b[38;5;241m=\u001b[39m By\u001b[38;5;241m.\u001b[39mCSS_SELECTOR\n\u001b[0;32m    739\u001b[0m     value \u001b[38;5;241m=\u001b[39m \u001b[38;5;124mf\u001b[39m\u001b[38;5;124m'\u001b[39m\u001b[38;5;124m[name=\u001b[39m\u001b[38;5;124m\"\u001b[39m\u001b[38;5;132;01m{\u001b[39;00mvalue\u001b[38;5;132;01m}\u001b[39;00m\u001b[38;5;124m\"\u001b[39m\u001b[38;5;124m]\u001b[39m\u001b[38;5;124m'\u001b[39m\n\u001b[1;32m--> 741\u001b[0m \u001b[38;5;28;01mreturn\u001b[39;00m \u001b[38;5;28;43mself\u001b[39;49m\u001b[38;5;241;43m.\u001b[39;49m\u001b[43mexecute\u001b[49m\u001b[43m(\u001b[49m\u001b[43mCommand\u001b[49m\u001b[38;5;241;43m.\u001b[39;49m\u001b[43mFIND_ELEMENT\u001b[49m\u001b[43m,\u001b[49m\u001b[43m \u001b[49m\u001b[43m{\u001b[49m\u001b[38;5;124;43m\"\u001b[39;49m\u001b[38;5;124;43musing\u001b[39;49m\u001b[38;5;124;43m\"\u001b[39;49m\u001b[43m:\u001b[49m\u001b[43m \u001b[49m\u001b[43mby\u001b[49m\u001b[43m,\u001b[49m\u001b[43m \u001b[49m\u001b[38;5;124;43m\"\u001b[39;49m\u001b[38;5;124;43mvalue\u001b[39;49m\u001b[38;5;124;43m\"\u001b[39;49m\u001b[43m:\u001b[49m\u001b[43m \u001b[49m\u001b[43mvalue\u001b[49m\u001b[43m}\u001b[49m\u001b[43m)\u001b[49m[\u001b[38;5;124m\"\u001b[39m\u001b[38;5;124mvalue\u001b[39m\u001b[38;5;124m\"\u001b[39m]\n",
      "File \u001b[1;32m~\\anaconda3\\lib\\site-packages\\selenium\\webdriver\\remote\\webdriver.py:347\u001b[0m, in \u001b[0;36mWebDriver.execute\u001b[1;34m(self, driver_command, params)\u001b[0m\n\u001b[0;32m    345\u001b[0m response \u001b[38;5;241m=\u001b[39m \u001b[38;5;28mself\u001b[39m\u001b[38;5;241m.\u001b[39mcommand_executor\u001b[38;5;241m.\u001b[39mexecute(driver_command, params)\n\u001b[0;32m    346\u001b[0m \u001b[38;5;28;01mif\u001b[39;00m response:\n\u001b[1;32m--> 347\u001b[0m     \u001b[38;5;28;43mself\u001b[39;49m\u001b[38;5;241;43m.\u001b[39;49m\u001b[43merror_handler\u001b[49m\u001b[38;5;241;43m.\u001b[39;49m\u001b[43mcheck_response\u001b[49m\u001b[43m(\u001b[49m\u001b[43mresponse\u001b[49m\u001b[43m)\u001b[49m\n\u001b[0;32m    348\u001b[0m     response[\u001b[38;5;124m\"\u001b[39m\u001b[38;5;124mvalue\u001b[39m\u001b[38;5;124m\"\u001b[39m] \u001b[38;5;241m=\u001b[39m \u001b[38;5;28mself\u001b[39m\u001b[38;5;241m.\u001b[39m_unwrap_value(response\u001b[38;5;241m.\u001b[39mget(\u001b[38;5;124m\"\u001b[39m\u001b[38;5;124mvalue\u001b[39m\u001b[38;5;124m\"\u001b[39m, \u001b[38;5;28;01mNone\u001b[39;00m))\n\u001b[0;32m    349\u001b[0m     \u001b[38;5;28;01mreturn\u001b[39;00m response\n",
      "File \u001b[1;32m~\\anaconda3\\lib\\site-packages\\selenium\\webdriver\\remote\\errorhandler.py:229\u001b[0m, in \u001b[0;36mErrorHandler.check_response\u001b[1;34m(self, response)\u001b[0m\n\u001b[0;32m    227\u001b[0m         alert_text \u001b[38;5;241m=\u001b[39m value[\u001b[38;5;124m\"\u001b[39m\u001b[38;5;124malert\u001b[39m\u001b[38;5;124m\"\u001b[39m]\u001b[38;5;241m.\u001b[39mget(\u001b[38;5;124m\"\u001b[39m\u001b[38;5;124mtext\u001b[39m\u001b[38;5;124m\"\u001b[39m)\n\u001b[0;32m    228\u001b[0m     \u001b[38;5;28;01mraise\u001b[39;00m exception_class(message, screen, stacktrace, alert_text)  \u001b[38;5;66;03m# type: ignore[call-arg]  # mypy is not smart enough here\u001b[39;00m\n\u001b[1;32m--> 229\u001b[0m \u001b[38;5;28;01mraise\u001b[39;00m exception_class(message, screen, stacktrace)\n",
      "\u001b[1;31mNoSuchElementException\u001b[0m: Message: no such element: Unable to locate element: {\"method\":\"xpath\",\"selector\":\"//a[@class=\"order-last\"]\"}\n  (Session info: chrome=125.0.6422.142); For documentation on this error, please visit: https://www.selenium.dev/documentation/webdriver/troubleshooting/errors#no-such-element-exception\nStacktrace:\n\tGetHandleVerifier [0x00007FF6FB8F1F52+60322]\n\t(No symbol) [0x00007FF6FB86CEC9]\n\t(No symbol) [0x00007FF6FB727EBA]\n\t(No symbol) [0x00007FF6FB777676]\n\t(No symbol) [0x00007FF6FB77773C]\n\t(No symbol) [0x00007FF6FB7BE967]\n\t(No symbol) [0x00007FF6FB79C25F]\n\t(No symbol) [0x00007FF6FB7BBC80]\n\t(No symbol) [0x00007FF6FB79BFC3]\n\t(No symbol) [0x00007FF6FB769617]\n\t(No symbol) [0x00007FF6FB76A211]\n\tGetHandleVerifier [0x00007FF6FBC094AD+3301629]\n\tGetHandleVerifier [0x00007FF6FBC536D3+3605283]\n\tGetHandleVerifier [0x00007FF6FBC49450+3563680]\n\tGetHandleVerifier [0x00007FF6FB9A4326+790390]\n\t(No symbol) [0x00007FF6FB87750F]\n\t(No symbol) [0x00007FF6FB873404]\n\t(No symbol) [0x00007FF6FB873592]\n\t(No symbol) [0x00007FF6FB862F9F]\n\tBaseThreadInitThunk [0x00007FFF7136257D+29]\n\tRtlUserThreadStart [0x00007FFF716EAF28+40]\n"
     ]
    }
   ],
   "source": [
    "start = 0\n",
    "end = 5\n",
    "for page in range(start,end):\n",
    "    try:\n",
    "        pname = driver.find_elements(By.XPATH,'//span[@class=\"address\"]/a')\n",
    "        for i in pname:\n",
    "            name_address.append(i.text)\n",
    "    except NoSuchElementException:\n",
    "        name_address.append('-')\n",
    "    \n",
    "    try:\n",
    "        ptype = driver.find_elements(By.XPATH,'//span[@class=\"title\"]')\n",
    "        for i in ptype:\n",
    "            p_type.append(i.text)\n",
    "    except NoSuchElementException:\n",
    "        p_type.append('-')\n",
    "    \n",
    "    try:\n",
    "        bed = driver.find_elements(By.XPATH,'//div[@class=\"otm-BedBathCount flex items-center\"]/div[1]')\n",
    "        for i in bed:\n",
    "            bedroom.append(i.text)\n",
    "    except NoSuchElementException:\n",
    "        bedroom.append('-')\n",
    "           \n",
    "    try:\n",
    "        p_price= driver.find_elements(By.XPATH,'//a[@class=\"mb-0 text-lg font-bold text-denim price\"]')\n",
    "        for i in p_price:\n",
    "            price.append(i.text)\n",
    "    except NoSuchElementException:\n",
    "        price.append('-')\n",
    "    next_button=driver.find_element(By.XPATH,'//a[@class=\"order-last\"]')\n",
    "    next_button.click()\n",
    "    time.sleep(1)"
   ]
  },
  {
   "cell_type": "code",
   "execution_count": 36,
   "id": "519e0b7c",
   "metadata": {},
   "outputs": [
    {
     "data": {
      "text/plain": [
       "(2069, 2062, 2069, 2070)"
      ]
     },
     "execution_count": 36,
     "metadata": {},
     "output_type": "execute_result"
    }
   ],
   "source": [
    "len(price),len(bedroom),len(p_type),len(name_address)"
   ]
  },
  {
   "cell_type": "code",
   "execution_count": 37,
   "id": "1008bfdb",
   "metadata": {},
   "outputs": [],
   "source": [
    "#driver= webdriver.Chrome()\n",
    "driver.get('https://www.raineandco.com/default.aspx?menuID=1')"
   ]
  },
  {
   "cell_type": "code",
   "execution_count": 38,
   "id": "c1145076",
   "metadata": {},
   "outputs": [
    {
     "name": "stdout",
     "output_type": "stream",
     "text": [
      "Enter town name welwyn garden city\n"
     ]
    }
   ],
   "source": [
    "area = input('Enter town name ')"
   ]
  },
  {
   "cell_type": "code",
   "execution_count": 39,
   "id": "c50f892f",
   "metadata": {},
   "outputs": [],
   "source": [
    "s4 = driver.find_element(By.XPATH,'//input[@class=\"form-control\"]')\n",
    "s4.send_keys(area)"
   ]
  },
  {
   "cell_type": "code",
   "execution_count": 40,
   "id": "79d5f4a0",
   "metadata": {},
   "outputs": [],
   "source": [
    "s4_b = driver.find_element(By.XPATH,'//input[@class=\"btn btn-fullcolor\"]')\n",
    "s4_b.click()"
   ]
  },
  {
   "cell_type": "code",
   "execution_count": 41,
   "id": "82f94b86",
   "metadata": {},
   "outputs": [],
   "source": [
    "start = 0\n",
    "end = 0\n",
    "for page in range(start,end):\n",
    "    try:\n",
    "        pname = driver.find_elements(By.XPATH,'//div[@class=\"info\"]/h3/a')\n",
    "        for i in pname:\n",
    "            name_address.append(i.text)\n",
    "    except NoSuchElementException:\n",
    "        name_address.append('-')\n",
    "    \n",
    "    try:\n",
    "        ptype = driver.find_elements(By.XPATH,'//div[@class=\"info\"]/h3/div')\n",
    "        for i in ptype:\n",
    "            p_type.append(i.text)\n",
    "    except NoSuchElementException:\n",
    "        p_type.append('-')\n",
    "    \n",
    "    try:\n",
    "        bed = driver.find_elements(By.XPATH,'//ul[@class=\"amenities\"]/li[2]')\n",
    "        for i in bed:\n",
    "            bedroom.append(i.text)\n",
    "    except NoSuchElementException:\n",
    "        bedroom.append('-')\n",
    "           \n",
    "    try:\n",
    "        p_price= driver.find_elements(By.XPATH,'//div[@class=\"item col-md-4\"]/div[2]/span')\n",
    "        for i in p_price:\n",
    "            price.append(i.text)\n",
    "    except NoSuchElementException:\n",
    "        price.append('-')\n",
    "    next_button=driver.find_element(By.XPATH,'//i[@class=\"fa-solid fa-chevron-right\"]')\n",
    "    next_button.click()\n",
    "    time.sleep(1)"
   ]
  },
  {
   "cell_type": "code",
   "execution_count": 42,
   "id": "775b3b80",
   "metadata": {},
   "outputs": [
    {
     "data": {
      "text/plain": [
       "(2069, 2062, 2069, 2070)"
      ]
     },
     "execution_count": 42,
     "metadata": {},
     "output_type": "execute_result"
    }
   ],
   "source": [
    "len(price),len(bedroom),len(p_type),len(name_address)"
   ]
  },
  {
   "cell_type": "code",
   "execution_count": 43,
   "id": "face1f09",
   "metadata": {},
   "outputs": [],
   "source": [
    "driver.get('https://www.savills.co.uk/find-a-property/')"
   ]
  },
  {
   "cell_type": "code",
   "execution_count": 44,
   "id": "c15cab1b",
   "metadata": {},
   "outputs": [
    {
     "name": "stdout",
     "output_type": "stream",
     "text": [
      "Location  manchester\n"
     ]
    }
   ],
   "source": [
    "area =input('Location  ')"
   ]
  },
  {
   "cell_type": "code",
   "execution_count": 45,
   "id": "0b966b9b",
   "metadata": {},
   "outputs": [],
   "source": [
    "s5 = driver.find_element(By.XPATH, '//fieldset[@class=\"sv-search__field\"]/input')\n",
    "s5.send_keys(area)"
   ]
  },
  {
   "cell_type": "code",
   "execution_count": 46,
   "id": "0d13efb7",
   "metadata": {},
   "outputs": [],
   "source": [
    "search = driver.find_element(By.XPATH,'//button[@class=\"sv-button sv-search__action\"]')\n",
    "search.click()"
   ]
  },
  {
   "cell_type": "code",
   "execution_count": 49,
   "id": "ef84fc48",
   "metadata": {},
   "outputs": [],
   "source": [
    "start = 0\n",
    "end = 1\n",
    "for page in range(start,end):\n",
    "    try:\n",
    "        pname = driver.find_elements(By.XPATH,'//p[@class=\"sv-details__address2\"]')\n",
    "        for i in pname:\n",
    "            name_address.append(i.text)\n",
    "    except NoSuchElementException:\n",
    "        name_address.append('-')\n",
    "    \n",
    "    try:\n",
    "        ptype = driver.find_elements(By.XPATH,'//footer[@class=\"sv-details__footer\"]/div[1]/div[1]/span[1]')\n",
    "        for i in ptype:\n",
    "            p_type.append(i.text)\n",
    "    except NoSuchElementException:\n",
    "        p_type.append('-')\n",
    "    \n",
    "    try:\n",
    "        bed = driver.find_elements(By.XPATH,'//footer[@class=\"sv-details__footer\"]/div[2]/div[1]/span[1]')\n",
    "        for i in bed:\n",
    "            bedroom.append(i.text)\n",
    "    except NoSuchElementException:\n",
    "        bedroom.append('-')\n",
    "           \n",
    "    try:\n",
    "        p_price= driver.find_elements(By.XPATH,'//div[@class=\"sv-details sv--show-price\"]/div')\n",
    "        for i in p_price:\n",
    "            price.append(i.text)\n",
    "    except NoSuchElementException:\n",
    "        price.append('-')\n",
    "    next_button=driver.find_element(By.XPATH,'//div[@class=\"sv-pagination\"]/ul/li[6]')\n",
    "    next_button.click()\n",
    "    time.sleep(1)"
   ]
  },
  {
   "cell_type": "code",
   "execution_count": 50,
   "id": "60733c69",
   "metadata": {},
   "outputs": [],
   "source": [
    "start = 2\n",
    "end = 3\n",
    "for page in range(start,end):\n",
    "    try:\n",
    "        pname = driver.find_elements(By.XPATH,'//p[@class=\"sv-details__address2\"]')\n",
    "        for i in pname:\n",
    "            name_address.append(i.text)\n",
    "    except NoSuchElementException:\n",
    "        name_address.append('-')\n",
    "    \n",
    "    try:\n",
    "        ptype = driver.find_elements(By.XPATH,'//footer[@class=\"sv-details__footer\"]/div[1]/div[1]/span[1]')\n",
    "        for i in ptype:\n",
    "            p_type.append(i.text)\n",
    "    except NoSuchElementException:\n",
    "        p_type.append('-')\n",
    "    \n",
    "    try:\n",
    "        bed = driver.find_elements(By.XPATH,'//footer[@class=\"sv-details__footer\"]/div[2]/div[1]/span[1]')\n",
    "        for i in bed:\n",
    "            bedroom.append(i.text)\n",
    "    except NoSuchElementException:\n",
    "        bedroom.append('-')\n",
    "           \n",
    "    try:\n",
    "        p_price= driver.find_elements(By.XPATH,'//div[@class=\"sv-details sv--show-price\"]/div')\n",
    "        for i in p_price:\n",
    "            price.append(i.text)\n",
    "    except NoSuchElementException:\n",
    "        price.append('-')\n",
    "    next_button=driver.find_element(By.XPATH,'//div[@class=\"sv-pagination\"]/ul/li[6]')\n",
    "    next_button.click()\n",
    "    time.sleep(1)"
   ]
  },
  {
   "cell_type": "code",
   "execution_count": 51,
   "id": "d099d108",
   "metadata": {},
   "outputs": [
    {
     "data": {
      "text/plain": [
       "(2144, 2131, 2144, 2145)"
      ]
     },
     "execution_count": 51,
     "metadata": {},
     "output_type": "execute_result"
    }
   ],
   "source": [
    "len(price),len(bedroom),len(p_type),len(name_address)"
   ]
  },
  {
   "cell_type": "code",
   "execution_count": 52,
   "id": "e04ebf16",
   "metadata": {},
   "outputs": [],
   "source": [
    "driver.get('https://www.onthemarket.com/for-sale/')"
   ]
  },
  {
   "cell_type": "code",
   "execution_count": 53,
   "id": "0ac5609b",
   "metadata": {},
   "outputs": [
    {
     "name": "stdout",
     "output_type": "stream",
     "text": [
      "Enter city Name : birmingham\n"
     ]
    }
   ],
   "source": [
    "a= input('Enter city Name : ')"
   ]
  },
  {
   "cell_type": "code",
   "execution_count": 54,
   "id": "5f4a0b76",
   "metadata": {},
   "outputs": [],
   "source": [
    "search3 = driver.find_element(By.XPATH,'//input[@class=\"landing-search-input landing-search-input--with-btn\"]')\n",
    "search3.send_keys(a)"
   ]
  },
  {
   "cell_type": "code",
   "execution_count": 55,
   "id": "be98c43f",
   "metadata": {},
   "outputs": [],
   "source": [
    "button3 = driver.find_element(By.XPATH,'//button[@class=\"otm-Button whitespace-nowrap py-2 leading-normal h-auto shadow-none font-heading font-semibold text-center justify-center inline-flex items-center px-8 rounded-md border-2 disabled:bg-dove disabled:text-white disabled:border-transparent hover:disabled:opacity-100 transition duration-200 ease-in-out border-burnt-coral bg-burnt-coral text-white hover:opacity-80 rounded-bl-none rounded-tl-none rounded-tr-lg rounded-br-lg px-4 !min-h-0 md:px-5 min-h-[52px] text-md md:min-h-[70px] sm:text-base2 \"]')\n",
    "button3.click()"
   ]
  },
  {
   "cell_type": "code",
   "execution_count": 56,
   "id": "8028d073",
   "metadata": {},
   "outputs": [],
   "source": [
    "start = 0\n",
    "end = 5\n",
    "for page in range(start,end):\n",
    "    try:\n",
    "        pname = driver.find_elements(By.XPATH,'//span[@class=\"address\"]/a')\n",
    "        for i in pname:\n",
    "            name_address.append(i.text)\n",
    "    except NoSuchElementException:\n",
    "        name_address.append('-')\n",
    "    \n",
    "    try:\n",
    "        ptype = driver.find_elements(By.XPATH,'//span[@class=\"title\"]')\n",
    "        for i in ptype:\n",
    "            p_type.append(i.text)\n",
    "    except NoSuchElementException:\n",
    "        p_type.append('-')\n",
    "    \n",
    "    try:\n",
    "        bed = driver.find_elements(By.XPATH,'//div[@class=\"otm-BedBathCount flex items-center\"]/div[1]')\n",
    "        for i in bed:\n",
    "            bedroom.append(i.text)\n",
    "    except NoSuchElementException:\n",
    "        bedroom.append('-')\n",
    "           \n",
    "    try:\n",
    "        p_price= driver.find_elements(By.XPATH,'//a[@class=\"mb-0 text-lg font-bold text-denim price\"]')\n",
    "        for i in p_price:\n",
    "            price.append(i.text)\n",
    "    except NoSuchElementException:\n",
    "        price.append('-')\n",
    "    next_button=driver.find_element(By.XPATH,'//a[@class=\"order-last\"]')\n",
    "    next_button.click()\n",
    "    time.sleep(1)"
   ]
  },
  {
   "cell_type": "code",
   "execution_count": 57,
   "id": "adf5bcb0",
   "metadata": {},
   "outputs": [
    {
     "data": {
      "text/plain": [
       "(2259, 2246, 2259, 2260)"
      ]
     },
     "execution_count": 57,
     "metadata": {},
     "output_type": "execute_result"
    }
   ],
   "source": [
    "len(price),len(bedroom),len(p_type),len(name_address)"
   ]
  },
  {
   "cell_type": "code",
   "execution_count": 58,
   "id": "b6d48864",
   "metadata": {},
   "outputs": [],
   "source": [
    "start = 6\n",
    "end = 9\n",
    "for page in range(start,end):\n",
    "    try:\n",
    "        pname = driver.find_elements(By.XPATH,'//span[@class=\"address\"]/a')\n",
    "        for i in pname:\n",
    "            name_address.append(i.text)\n",
    "    except NoSuchElementException:\n",
    "        name_address.append('-')\n",
    "    \n",
    "    try:\n",
    "        ptype = driver.find_elements(By.XPATH,'//span[@class=\"title\"]')\n",
    "        for i in ptype:\n",
    "            p_type.append(i.text)\n",
    "    except NoSuchElementException:\n",
    "        p_type.append('-')\n",
    "    \n",
    "    try:\n",
    "        bed = driver.find_elements(By.XPATH,'//div[@class=\"otm-BedBathCount flex items-center\"]/div[1]')\n",
    "        for i in bed:\n",
    "            bedroom.append(i.text)\n",
    "    except NoSuchElementException:\n",
    "        bedroom.append('-')\n",
    "           \n",
    "    try:\n",
    "        p_price= driver.find_elements(By.XPATH,'//a[@class=\"mb-0 text-lg font-bold text-denim price\"]')\n",
    "        for i in p_price:\n",
    "            price.append(i.text)\n",
    "    except NoSuchElementException:\n",
    "        price.append('-')\n",
    "    next_button=driver.find_element(By.XPATH,'//a[@class=\"order-last\"]')\n",
    "    next_button.click()\n",
    "    time.sleep(1)"
   ]
  },
  {
   "cell_type": "code",
   "execution_count": 59,
   "id": "d9daa76f",
   "metadata": {},
   "outputs": [
    {
     "data": {
      "text/plain": [
       "(2328, 2315, 2328, 2329)"
      ]
     },
     "execution_count": 59,
     "metadata": {},
     "output_type": "execute_result"
    }
   ],
   "source": [
    "len(price),len(bedroom),len(p_type),len(name_address)"
   ]
  },
  {
   "cell_type": "code",
   "execution_count": 60,
   "id": "fe46fb82",
   "metadata": {},
   "outputs": [],
   "source": [
    "driver= webdriver.Chrome()\n",
    "driver.get('https://www.primelocation.com/for-sale/')"
   ]
  },
  {
   "cell_type": "code",
   "execution_count": 61,
   "id": "84487688",
   "metadata": {},
   "outputs": [
    {
     "name": "stdout",
     "output_type": "stream",
     "text": [
      "Enter city name : glasgow\n"
     ]
    }
   ],
   "source": [
    "area = input('Enter city name : ')"
   ]
  },
  {
   "cell_type": "code",
   "execution_count": 63,
   "id": "3bacaee1",
   "metadata": {},
   "outputs": [
    {
     "ename": "ElementClickInterceptedException",
     "evalue": "Message: element click intercepted: Element <a href=\"/for-sale/property/glasgow/?identifier=glasgow&amp;page_size=50&amp;q=Glasgow&amp;search_source=for-sale&amp;radius=0&amp;view_type=grid&amp;pn=...\">29</a> is not clickable at point (858, 702). Other element would receive the click: <iframe frameborder=\"0\" src=\"https://6456c4caac4afc905162be2983e59b97.safeframe.googlesyndication.com/safeframe/1-0-40/html/container.html\" id=\"google_ads_iframe_/9215/PL_DT/FS/LSRP/Adhesion_0\" title=\"3rd party ad content\" name=\"\" scrolling=\"no\" marginwidth=\"0\" marginheight=\"0\" width=\"728\" height=\"90\" data-is-safeframe=\"true\" sandbox=\"allow-forms allow-popups allow-popups-to-escape-sandbox allow-same-origin allow-scripts allow-top-navigation-by-user-activation\" allow=\"attribution-reporting\" aria-label=\"Advertisement\" tabindex=\"0\" data-google-container-id=\"3\" style=\"border: 0px; vertical-align: bottom; height: 90px; width: 728px;\" data-load-complete=\"true\"></iframe>\n  (Session info: chrome=125.0.6422.142)\nStacktrace:\n\tGetHandleVerifier [0x00007FF6FB8F1F52+60322]\n\t(No symbol) [0x00007FF6FB86CEC9]\n\t(No symbol) [0x00007FF6FB727EBA]\n\t(No symbol) [0x00007FF6FB77F32E]\n\t(No symbol) [0x00007FF6FB77CCF2]\n\t(No symbol) [0x00007FF6FB77A18B]\n\t(No symbol) [0x00007FF6FB779356]\n\t(No symbol) [0x00007FF6FB76B491]\n\t(No symbol) [0x00007FF6FB79C21A]\n\t(No symbol) [0x00007FF6FB76ADB6]\n\t(No symbol) [0x00007FF6FB79C430]\n\t(No symbol) [0x00007FF6FB7BBC80]\n\t(No symbol) [0x00007FF6FB79BFC3]\n\t(No symbol) [0x00007FF6FB769617]\n\t(No symbol) [0x00007FF6FB76A211]\n\tGetHandleVerifier [0x00007FF6FBC094AD+3301629]\n\tGetHandleVerifier [0x00007FF6FBC536D3+3605283]\n\tGetHandleVerifier [0x00007FF6FBC49450+3563680]\n\tGetHandleVerifier [0x00007FF6FB9A4326+790390]\n\t(No symbol) [0x00007FF6FB87750F]\n\t(No symbol) [0x00007FF6FB873404]\n\t(No symbol) [0x00007FF6FB873592]\n\t(No symbol) [0x00007FF6FB862F9F]\n\tBaseThreadInitThunk [0x00007FFF7136257D+29]\n\tRtlUserThreadStart [0x00007FFF716EAF28+40]\n",
     "output_type": "error",
     "traceback": [
      "\u001b[1;31m---------------------------------------------------------------------------\u001b[0m",
      "\u001b[1;31mElementClickInterceptedException\u001b[0m          Traceback (most recent call last)",
      "Cell \u001b[1;32mIn[63], line 32\u001b[0m\n\u001b[0;32m     30\u001b[0m     price\u001b[38;5;241m.\u001b[39mappend(\u001b[38;5;124m'\u001b[39m\u001b[38;5;124m-\u001b[39m\u001b[38;5;124m'\u001b[39m)\n\u001b[0;32m     31\u001b[0m next_button\u001b[38;5;241m=\u001b[39mdriver\u001b[38;5;241m.\u001b[39mfind_element(By\u001b[38;5;241m.\u001b[39mXPATH,\u001b[38;5;124m'\u001b[39m\u001b[38;5;124m//div[@class=\u001b[39m\u001b[38;5;124m\"\u001b[39m\u001b[38;5;124mpaginate bg-muted\u001b[39m\u001b[38;5;124m\"\u001b[39m\u001b[38;5;124m]/a[12]\u001b[39m\u001b[38;5;124m'\u001b[39m)\n\u001b[1;32m---> 32\u001b[0m \u001b[43mnext_button\u001b[49m\u001b[38;5;241;43m.\u001b[39;49m\u001b[43mclick\u001b[49m\u001b[43m(\u001b[49m\u001b[43m)\u001b[49m\n\u001b[0;32m     33\u001b[0m time\u001b[38;5;241m.\u001b[39msleep(\u001b[38;5;241m1\u001b[39m)\n",
      "File \u001b[1;32m~\\anaconda3\\lib\\site-packages\\selenium\\webdriver\\remote\\webelement.py:94\u001b[0m, in \u001b[0;36mWebElement.click\u001b[1;34m(self)\u001b[0m\n\u001b[0;32m     92\u001b[0m \u001b[38;5;28;01mdef\u001b[39;00m \u001b[38;5;21mclick\u001b[39m(\u001b[38;5;28mself\u001b[39m) \u001b[38;5;241m-\u001b[39m\u001b[38;5;241m>\u001b[39m \u001b[38;5;28;01mNone\u001b[39;00m:\n\u001b[0;32m     93\u001b[0m     \u001b[38;5;124;03m\"\"\"Clicks the element.\"\"\"\u001b[39;00m\n\u001b[1;32m---> 94\u001b[0m     \u001b[38;5;28;43mself\u001b[39;49m\u001b[38;5;241;43m.\u001b[39;49m\u001b[43m_execute\u001b[49m\u001b[43m(\u001b[49m\u001b[43mCommand\u001b[49m\u001b[38;5;241;43m.\u001b[39;49m\u001b[43mCLICK_ELEMENT\u001b[49m\u001b[43m)\u001b[49m\n",
      "File \u001b[1;32m~\\anaconda3\\lib\\site-packages\\selenium\\webdriver\\remote\\webelement.py:395\u001b[0m, in \u001b[0;36mWebElement._execute\u001b[1;34m(self, command, params)\u001b[0m\n\u001b[0;32m    393\u001b[0m     params \u001b[38;5;241m=\u001b[39m {}\n\u001b[0;32m    394\u001b[0m params[\u001b[38;5;124m\"\u001b[39m\u001b[38;5;124mid\u001b[39m\u001b[38;5;124m\"\u001b[39m] \u001b[38;5;241m=\u001b[39m \u001b[38;5;28mself\u001b[39m\u001b[38;5;241m.\u001b[39m_id\n\u001b[1;32m--> 395\u001b[0m \u001b[38;5;28;01mreturn\u001b[39;00m \u001b[38;5;28;43mself\u001b[39;49m\u001b[38;5;241;43m.\u001b[39;49m\u001b[43m_parent\u001b[49m\u001b[38;5;241;43m.\u001b[39;49m\u001b[43mexecute\u001b[49m\u001b[43m(\u001b[49m\u001b[43mcommand\u001b[49m\u001b[43m,\u001b[49m\u001b[43m \u001b[49m\u001b[43mparams\u001b[49m\u001b[43m)\u001b[49m\n",
      "File \u001b[1;32m~\\anaconda3\\lib\\site-packages\\selenium\\webdriver\\remote\\webdriver.py:347\u001b[0m, in \u001b[0;36mWebDriver.execute\u001b[1;34m(self, driver_command, params)\u001b[0m\n\u001b[0;32m    345\u001b[0m response \u001b[38;5;241m=\u001b[39m \u001b[38;5;28mself\u001b[39m\u001b[38;5;241m.\u001b[39mcommand_executor\u001b[38;5;241m.\u001b[39mexecute(driver_command, params)\n\u001b[0;32m    346\u001b[0m \u001b[38;5;28;01mif\u001b[39;00m response:\n\u001b[1;32m--> 347\u001b[0m     \u001b[38;5;28;43mself\u001b[39;49m\u001b[38;5;241;43m.\u001b[39;49m\u001b[43merror_handler\u001b[49m\u001b[38;5;241;43m.\u001b[39;49m\u001b[43mcheck_response\u001b[49m\u001b[43m(\u001b[49m\u001b[43mresponse\u001b[49m\u001b[43m)\u001b[49m\n\u001b[0;32m    348\u001b[0m     response[\u001b[38;5;124m\"\u001b[39m\u001b[38;5;124mvalue\u001b[39m\u001b[38;5;124m\"\u001b[39m] \u001b[38;5;241m=\u001b[39m \u001b[38;5;28mself\u001b[39m\u001b[38;5;241m.\u001b[39m_unwrap_value(response\u001b[38;5;241m.\u001b[39mget(\u001b[38;5;124m\"\u001b[39m\u001b[38;5;124mvalue\u001b[39m\u001b[38;5;124m\"\u001b[39m, \u001b[38;5;28;01mNone\u001b[39;00m))\n\u001b[0;32m    349\u001b[0m     \u001b[38;5;28;01mreturn\u001b[39;00m response\n",
      "File \u001b[1;32m~\\anaconda3\\lib\\site-packages\\selenium\\webdriver\\remote\\errorhandler.py:229\u001b[0m, in \u001b[0;36mErrorHandler.check_response\u001b[1;34m(self, response)\u001b[0m\n\u001b[0;32m    227\u001b[0m         alert_text \u001b[38;5;241m=\u001b[39m value[\u001b[38;5;124m\"\u001b[39m\u001b[38;5;124malert\u001b[39m\u001b[38;5;124m\"\u001b[39m]\u001b[38;5;241m.\u001b[39mget(\u001b[38;5;124m\"\u001b[39m\u001b[38;5;124mtext\u001b[39m\u001b[38;5;124m\"\u001b[39m)\n\u001b[0;32m    228\u001b[0m     \u001b[38;5;28;01mraise\u001b[39;00m exception_class(message, screen, stacktrace, alert_text)  \u001b[38;5;66;03m# type: ignore[call-arg]  # mypy is not smart enough here\u001b[39;00m\n\u001b[1;32m--> 229\u001b[0m \u001b[38;5;28;01mraise\u001b[39;00m exception_class(message, screen, stacktrace)\n",
      "\u001b[1;31mElementClickInterceptedException\u001b[0m: Message: element click intercepted: Element <a href=\"/for-sale/property/glasgow/?identifier=glasgow&amp;page_size=50&amp;q=Glasgow&amp;search_source=for-sale&amp;radius=0&amp;view_type=grid&amp;pn=...\">29</a> is not clickable at point (858, 702). Other element would receive the click: <iframe frameborder=\"0\" src=\"https://6456c4caac4afc905162be2983e59b97.safeframe.googlesyndication.com/safeframe/1-0-40/html/container.html\" id=\"google_ads_iframe_/9215/PL_DT/FS/LSRP/Adhesion_0\" title=\"3rd party ad content\" name=\"\" scrolling=\"no\" marginwidth=\"0\" marginheight=\"0\" width=\"728\" height=\"90\" data-is-safeframe=\"true\" sandbox=\"allow-forms allow-popups allow-popups-to-escape-sandbox allow-same-origin allow-scripts allow-top-navigation-by-user-activation\" allow=\"attribution-reporting\" aria-label=\"Advertisement\" tabindex=\"0\" data-google-container-id=\"3\" style=\"border: 0px; vertical-align: bottom; height: 90px; width: 728px;\" data-load-complete=\"true\"></iframe>\n  (Session info: chrome=125.0.6422.142)\nStacktrace:\n\tGetHandleVerifier [0x00007FF6FB8F1F52+60322]\n\t(No symbol) [0x00007FF6FB86CEC9]\n\t(No symbol) [0x00007FF6FB727EBA]\n\t(No symbol) [0x00007FF6FB77F32E]\n\t(No symbol) [0x00007FF6FB77CCF2]\n\t(No symbol) [0x00007FF6FB77A18B]\n\t(No symbol) [0x00007FF6FB779356]\n\t(No symbol) [0x00007FF6FB76B491]\n\t(No symbol) [0x00007FF6FB79C21A]\n\t(No symbol) [0x00007FF6FB76ADB6]\n\t(No symbol) [0x00007FF6FB79C430]\n\t(No symbol) [0x00007FF6FB7BBC80]\n\t(No symbol) [0x00007FF6FB79BFC3]\n\t(No symbol) [0x00007FF6FB769617]\n\t(No symbol) [0x00007FF6FB76A211]\n\tGetHandleVerifier [0x00007FF6FBC094AD+3301629]\n\tGetHandleVerifier [0x00007FF6FBC536D3+3605283]\n\tGetHandleVerifier [0x00007FF6FBC49450+3563680]\n\tGetHandleVerifier [0x00007FF6FB9A4326+790390]\n\t(No symbol) [0x00007FF6FB87750F]\n\t(No symbol) [0x00007FF6FB873404]\n\t(No symbol) [0x00007FF6FB873592]\n\t(No symbol) [0x00007FF6FB862F9F]\n\tBaseThreadInitThunk [0x00007FFF7136257D+29]\n\tRtlUserThreadStart [0x00007FFF716EAF28+40]\n"
     ]
    }
   ],
   "source": [
    "start = 0\n",
    "end = 2\n",
    "for page in range(start,end):\n",
    "    try:\n",
    "        pname = driver.find_elements(By.XPATH,'//div[@class=\"listing-results-grid-content description\"]/p[4]/a')\n",
    "        for i in pname:\n",
    "            name_address.append(i.text)\n",
    "    except NoSuchElementException:\n",
    "        name_address.append('-')\n",
    "    \n",
    "    try:\n",
    "        ptype = driver.find_elements(By.XPATH,'//div[@class=\"listing-results-grid-content description\"]/p[2]')\n",
    "        for i in ptype:\n",
    "            p_type.append(i.text)\n",
    "    except NoSuchElementException:\n",
    "        p_type.append('-')\n",
    "    \n",
    "    try:\n",
    "        bed = driver.find_elements(By.XPATH,'//span[@class=\"num-icon num-beds\"]')\n",
    "        for i in bed:\n",
    "            bedroom.append(i.text)\n",
    "    except NoSuchElementException:\n",
    "        bedroom.append('-')\n",
    "           \n",
    "    try:\n",
    "        p_price= driver.find_elements(By.XPATH,'//div[@class=\"grid-cell-price\"]')\n",
    "        for i in p_price:\n",
    "            price.append(i.text)\n",
    "    except NoSuchElementException:\n",
    "        price.append('-')\n",
    "    next_button=driver.find_element(By.XPATH,'//div[@class=\"paginate bg-muted\"]/a[12]')\n",
    "    next_button.click()\n",
    "    time.sleep(1)"
   ]
  },
  {
   "cell_type": "code",
   "execution_count": 64,
   "id": "07a7718d",
   "metadata": {},
   "outputs": [
    {
     "data": {
      "text/plain": [
       "(2478, 2458, 2478, 2479)"
      ]
     },
     "execution_count": 64,
     "metadata": {},
     "output_type": "execute_result"
    }
   ],
   "source": [
    "len(price),len(bedroom),len(p_type),len(name_address)"
   ]
  },
  {
   "cell_type": "markdown",
   "id": "a44a91c5",
   "metadata": {},
   "source": []
  },
  {
   "cell_type": "code",
   "execution_count": 66,
   "id": "ba8e5e79",
   "metadata": {},
   "outputs": [],
   "source": [
    "start = 3\n",
    "end = 5\n",
    "for page in range(start,end):\n",
    "    try:\n",
    "        pname = driver.find_elements(By.XPATH,'//div[@class=\"listing-results-grid-content description\"]/p[4]/a')\n",
    "        for i in pname:\n",
    "            name_address.append(i.text)\n",
    "    except NoSuchElementException:\n",
    "        name_address.append('-')\n",
    "    \n",
    "    try:\n",
    "        ptype = driver.find_elements(By.XPATH,'//div[@class=\"listing-results-grid-content description\"]/p[2]')\n",
    "        for i in ptype:\n",
    "            p_type.append(i.text)\n",
    "    except NoSuchElementException:\n",
    "        p_type.append('-')\n",
    "    \n",
    "    try:\n",
    "        bed = driver.find_elements(By.XPATH,'//span[@class=\"num-icon num-beds\"]')\n",
    "        for i in bed:\n",
    "            bedroom.append(i.text)\n",
    "    except NoSuchElementException:\n",
    "        bedroom.append('-')\n",
    "           \n",
    "    try:\n",
    "        p_price= driver.find_elements(By.XPATH,'//div[@class=\"grid-cell-price\"]')\n",
    "        for i in p_price:\n",
    "            price.append(i.text)\n",
    "    except NoSuchElementException:\n",
    "        price.append('-')\n",
    "    next_button=driver.find_element(By.XPATH,'//div[@class=\"paginate bg-muted\"]/a[13]')\n",
    "    next_button.click()\n",
    "    time.sleep(1)"
   ]
  },
  {
   "cell_type": "code",
   "execution_count": 67,
   "id": "95c2ed6d",
   "metadata": {},
   "outputs": [
    {
     "data": {
      "text/plain": [
       "(2678, 2657, 2678, 2679)"
      ]
     },
     "execution_count": 67,
     "metadata": {},
     "output_type": "execute_result"
    }
   ],
   "source": [
    "len(price),len(bedroom),len(p_type),len(name_address)"
   ]
  },
  {
   "cell_type": "code",
   "execution_count": 68,
   "id": "7af95653",
   "metadata": {},
   "outputs": [],
   "source": [
    "#driver =webdriver.Chrome()\n",
    "driver.get('https://www.aspc.co.uk/')"
   ]
  },
  {
   "cell_type": "code",
   "execution_count": 69,
   "id": "27f72b6b",
   "metadata": {},
   "outputs": [
    {
     "name": "stdout",
     "output_type": "stream",
     "text": [
      "Enter City Name  aberdeen\n"
     ]
    }
   ],
   "source": [
    "area = input('Enter City Name  ')"
   ]
  },
  {
   "cell_type": "code",
   "execution_count": 70,
   "id": "a2a2bea2",
   "metadata": {},
   "outputs": [],
   "source": [
    "s= driver.find_element(By.XPATH,'/html/body/div[1]/div/section/div/div[1]/div/div/div[1]/div[1]/div[1]/div[1]/div/input')\n",
    "s.send_keys(area)"
   ]
  },
  {
   "cell_type": "code",
   "execution_count": 73,
   "id": "a6098672",
   "metadata": {},
   "outputs": [],
   "source": [
    "result = driver.find_element(By.XPATH,'/html/body/div[1]/div/section/div/div[1]/div/div/div[2]/div/a')\n",
    "result.click()"
   ]
  },
  {
   "cell_type": "code",
   "execution_count": 74,
   "id": "cb4e8c34",
   "metadata": {},
   "outputs": [],
   "source": [
    "\n",
    "    try:\n",
    "        pname = driver.find_elements(By.XPATH,'//div[@class=\"information-card__heading\"]')\n",
    "        for i in pname:\n",
    "            name_address.append(i.text)\n",
    "    except NoSuchElementException:\n",
    "        name_address.append('-')\n",
    "    \n",
    "    try:\n",
    "        ptype = driver.find_elements(By.XPATH,'//div[@class=\"information-card__footer\"]/ul/li[4]')\n",
    "        for i in ptype:\n",
    "            p_type.append(i.text)\n",
    "    except NoSuchElementException:\n",
    "        p_type.append('-')\n",
    "    \n",
    "    try:\n",
    "        bed = driver.find_elements(By.XPATH,'//div[@class=\"information-card__footer\"]/ul/li[1]/span')\n",
    "        for i in bed:\n",
    "            bedroom.append(i.text)\n",
    "    except NoSuchElementException:\n",
    "        bedroom.append('-')\n",
    "           \n",
    "    try:\n",
    "        p_price= driver.find_elements(By.XPATH,'//div[@class=\"information-card__footer\"]/div[1]')\n",
    "        for i in p_price:\n",
    "            price.append(i.text)\n",
    "    except NoSuchElementException:\n",
    "        price.append('-')\n",
    "    for _ in range(1500):\n",
    "        driver.execute_script(\"window.scrollBy(0,5000)\")\n",
    "        #time.sleep()"
   ]
  },
  {
   "cell_type": "code",
   "execution_count": 75,
   "id": "1f343b4b",
   "metadata": {},
   "outputs": [
    {
     "data": {
      "text/plain": [
       "(2714, 2693, 2714, 2715)"
      ]
     },
     "execution_count": 75,
     "metadata": {},
     "output_type": "execute_result"
    }
   ],
   "source": [
    "len(price),len(bedroom),len(p_type),len(name_address)"
   ]
  },
  {
   "cell_type": "code",
   "execution_count": 78,
   "id": "3e51e026",
   "metadata": {},
   "outputs": [],
   "source": [
    "driver =  webdriver.Chrome()\n",
    "driver.get('https://www.onthemarket.com/for-sale/')"
   ]
  },
  {
   "cell_type": "code",
   "execution_count": 79,
   "id": "17c28163",
   "metadata": {},
   "outputs": [
    {
     "name": "stdout",
     "output_type": "stream",
     "text": [
      "Enter city Name : edinburgh\n"
     ]
    }
   ],
   "source": [
    "area= input('Enter city Name : ')"
   ]
  },
  {
   "cell_type": "code",
   "execution_count": 80,
   "id": "371a7707",
   "metadata": {},
   "outputs": [],
   "source": [
    "search3 = driver.find_element(By.XPATH,'//input[@class=\"landing-search-input landing-search-input--with-btn\"]')\n",
    "search3.send_keys(area)"
   ]
  },
  {
   "cell_type": "code",
   "execution_count": 81,
   "id": "fb8e6966",
   "metadata": {},
   "outputs": [],
   "source": [
    "button3 = driver.find_element(By.XPATH,'//button[@class=\"otm-Button whitespace-nowrap py-2 leading-normal h-auto shadow-none font-heading font-semibold text-center justify-center inline-flex items-center px-8 rounded-md border-2 disabled:bg-dove disabled:text-white disabled:border-transparent hover:disabled:opacity-100 transition duration-200 ease-in-out border-burnt-coral bg-burnt-coral text-white hover:opacity-80 rounded-bl-none rounded-tl-none rounded-tr-lg rounded-br-lg px-4 !min-h-0 md:px-5 min-h-[52px] text-md md:min-h-[70px] sm:text-base2 \"]')\n",
    "button3.click()"
   ]
  },
  {
   "cell_type": "code",
   "execution_count": 82,
   "id": "a8510198",
   "metadata": {},
   "outputs": [],
   "source": [
    "start = 0\n",
    "end = 20\n",
    "for page in range(start,end):\n",
    "    try:\n",
    "        pname = driver.find_elements(By.XPATH,'//span[@class=\"address\"]/a')\n",
    "        for i in pname:\n",
    "            name_address.append(i.text)\n",
    "    except NoSuchElementException:\n",
    "        name_address.append('-')\n",
    "    \n",
    "    try:\n",
    "        ptype = driver.find_elements(By.XPATH,'//span[@class=\"title\"]')\n",
    "        for i in ptype:\n",
    "            p_type.append(i.text)\n",
    "    except NoSuchElementException:\n",
    "        p_type.append('-')\n",
    "    \n",
    "    try:\n",
    "        bed = driver.find_elements(By.XPATH,'//div[@class=\"otm-BedBathCount flex items-center\"]/div[1]')\n",
    "        for i in bed:\n",
    "            bedroom.append(i.text)\n",
    "    except NoSuchElementException:\n",
    "        bedroom.append('-')\n",
    "           \n",
    "    try:\n",
    "        p_price= driver.find_elements(By.XPATH,'//a[@class=\"mb-0 text-lg font-bold text-denim price\"]')\n",
    "        for i in p_price:\n",
    "            price.append(i.text)\n",
    "    except NoSuchElementException:\n",
    "        price.append('-')\n",
    "    next_button=driver.find_element(By.XPATH,'//a[@class=\"order-last\"]')\n",
    "    next_button.click()\n",
    "    time.sleep(1)"
   ]
  },
  {
   "cell_type": "code",
   "execution_count": 84,
   "id": "42262bf6",
   "metadata": {},
   "outputs": [
    {
     "data": {
      "text/plain": [
       "(3174, 3153, 3174, 3175)"
      ]
     },
     "execution_count": 84,
     "metadata": {},
     "output_type": "execute_result"
    }
   ],
   "source": [
    "len(price),len(bedroom),len(p_type),len(name_address)"
   ]
  },
  {
   "cell_type": "code",
   "execution_count": 85,
   "id": "d0082f07",
   "metadata": {},
   "outputs": [],
   "source": [
    "driver.get('https://www.onthemarket.com/for-sale/')"
   ]
  },
  {
   "cell_type": "code",
   "execution_count": 86,
   "id": "58bd9cb5",
   "metadata": {},
   "outputs": [
    {
     "name": "stdout",
     "output_type": "stream",
     "text": [
      "Enter city Name : brentwood\n"
     ]
    }
   ],
   "source": [
    "area= input('Enter city Name : ')"
   ]
  },
  {
   "cell_type": "code",
   "execution_count": 87,
   "id": "bba8577a",
   "metadata": {},
   "outputs": [],
   "source": [
    "search3 = driver.find_element(By.XPATH,'//input[@class=\"landing-search-input landing-search-input--with-btn\"]')\n",
    "search3.send_keys(area)"
   ]
  },
  {
   "cell_type": "code",
   "execution_count": 88,
   "id": "cac460fc",
   "metadata": {},
   "outputs": [],
   "source": [
    "button3 = driver.find_element(By.XPATH,'//button[@class=\"otm-Button whitespace-nowrap py-2 leading-normal h-auto shadow-none font-heading font-semibold text-center justify-center inline-flex items-center px-8 rounded-md border-2 disabled:bg-dove disabled:text-white disabled:border-transparent hover:disabled:opacity-100 transition duration-200 ease-in-out border-burnt-coral bg-burnt-coral text-white hover:opacity-80 rounded-bl-none rounded-tl-none rounded-tr-lg rounded-br-lg px-4 !min-h-0 md:px-5 min-h-[52px] text-md md:min-h-[70px] sm:text-base2 \"]')\n",
    "button3.click()"
   ]
  },
  {
   "cell_type": "code",
   "execution_count": 89,
   "id": "56871785",
   "metadata": {},
   "outputs": [],
   "source": [
    "start = 0\n",
    "end = 20\n",
    "for page in range(start,end):\n",
    "    try:\n",
    "        pname = driver.find_elements(By.XPATH,'//span[@class=\"address\"]/a')\n",
    "        for i in pname:\n",
    "            name_address.append(i.text)\n",
    "    except NoSuchElementException:\n",
    "        name_address.append('-')\n",
    "    \n",
    "    try:\n",
    "        ptype = driver.find_elements(By.XPATH,'//span[@class=\"title\"]')\n",
    "        for i in ptype:\n",
    "            p_type.append(i.text)\n",
    "    except NoSuchElementException:\n",
    "        p_type.append('-')\n",
    "    \n",
    "    try:\n",
    "        bed = driver.find_elements(By.XPATH,'//div[@class=\"otm-BedBathCount flex items-center\"]/div[1]')\n",
    "        for i in bed:\n",
    "            bedroom.append(i.text)\n",
    "    except NoSuchElementException:\n",
    "        bedroom.append('-')\n",
    "           \n",
    "    try:\n",
    "        p_price= driver.find_elements(By.XPATH,'//a[@class=\"mb-0 text-lg font-bold text-denim price\"]')\n",
    "        for i in p_price:\n",
    "            price.append(i.text)\n",
    "    except NoSuchElementException:\n",
    "        price.append('-')\n",
    "    next_button=driver.find_element(By.XPATH,'//a[@class=\"order-last\"]')\n",
    "    next_button.click()\n",
    "    time.sleep(1)"
   ]
  },
  {
   "cell_type": "code",
   "execution_count": 90,
   "id": "38828bde",
   "metadata": {},
   "outputs": [
    {
     "data": {
      "text/plain": [
       "(3654, 3633, 3654, 3655)"
      ]
     },
     "execution_count": 90,
     "metadata": {},
     "output_type": "execute_result"
    }
   ],
   "source": [
    "len(price),len(bedroom),len(p_type),len(name_address)"
   ]
  },
  {
   "cell_type": "code",
   "execution_count": 91,
   "id": "341f1f0c",
   "metadata": {},
   "outputs": [
    {
     "data": {
      "text/html": [
       "<div>\n",
       "<style scoped>\n",
       "    .dataframe tbody tr th:only-of-type {\n",
       "        vertical-align: middle;\n",
       "    }\n",
       "\n",
       "    .dataframe tbody tr th {\n",
       "        vertical-align: top;\n",
       "    }\n",
       "\n",
       "    .dataframe thead th {\n",
       "        text-align: right;\n",
       "    }\n",
       "</style>\n",
       "<table border=\"1\" class=\"dataframe\">\n",
       "  <thead>\n",
       "    <tr style=\"text-align: right;\">\n",
       "      <th></th>\n",
       "      <th>Property_Name</th>\n",
       "      <th>Price</th>\n",
       "      <th>No_of_Bedroom</th>\n",
       "      <th>Property_type</th>\n",
       "    </tr>\n",
       "  </thead>\n",
       "  <tbody>\n",
       "    <tr>\n",
       "      <th>0</th>\n",
       "      <td>Wimpole Street, Marylebone, London, W1G</td>\n",
       "      <td>£4,250,000</td>\n",
       "      <td>3</td>\n",
       "      <td>Apartment</td>\n",
       "    </tr>\n",
       "    <tr>\n",
       "      <th>1</th>\n",
       "      <td>One Hyde Park, Knightsbridge</td>\n",
       "      <td>£60,000,000</td>\n",
       "      <td>5</td>\n",
       "      <td>Apartment</td>\n",
       "    </tr>\n",
       "    <tr>\n",
       "      <th>2</th>\n",
       "      <td>Buckingham Gate, SW1</td>\n",
       "      <td>£45,000,000</td>\n",
       "      <td>9</td>\n",
       "      <td>Terraced</td>\n",
       "    </tr>\n",
       "    <tr>\n",
       "      <th>3</th>\n",
       "      <td>Buckingham Gate, Westminster, SW1E</td>\n",
       "      <td>£45,000,000</td>\n",
       "      <td>8</td>\n",
       "      <td>Terraced</td>\n",
       "    </tr>\n",
       "    <tr>\n",
       "      <th>4</th>\n",
       "      <td>Belgravia Gate, Grosvenor Crescent, Belgravia,...</td>\n",
       "      <td>£43,700,000</td>\n",
       "      <td>6</td>\n",
       "      <td>Not Specified</td>\n",
       "    </tr>\n",
       "    <tr>\n",
       "      <th>...</th>\n",
       "      <td>...</td>\n",
       "      <td>...</td>\n",
       "      <td>...</td>\n",
       "      <td>...</td>\n",
       "    </tr>\n",
       "    <tr>\n",
       "      <th>3628</th>\n",
       "      <td>The Galleries, Warley, Brentwood</td>\n",
       "      <td>£1,100,000</td>\n",
       "      <td>4</td>\n",
       "      <td>4 bedroom detached house for sale</td>\n",
       "    </tr>\n",
       "    <tr>\n",
       "      <th>3629</th>\n",
       "      <td>The Avenue, Thorndon Park, CM13</td>\n",
       "      <td>£365,000</td>\n",
       "      <td>4</td>\n",
       "      <td>2 bedroom end of terrace house for sale</td>\n",
       "    </tr>\n",
       "    <tr>\n",
       "      <th>3630</th>\n",
       "      <td>Broomwood Gardens, Pilgrims Hatch, Brentwood</td>\n",
       "      <td>£700,000</td>\n",
       "      <td>3</td>\n",
       "      <td>4 bedroom detached house for sale</td>\n",
       "    </tr>\n",
       "    <tr>\n",
       "      <th>3631</th>\n",
       "      <td>Thorndales, St. Johns Avenue, CM14</td>\n",
       "      <td>£2,700,000</td>\n",
       "      <td>3</td>\n",
       "      <td>6 bedroom detached house for sale</td>\n",
       "    </tr>\n",
       "    <tr>\n",
       "      <th>3632</th>\n",
       "      <td>Hay Green Lane, Hook End, CM15</td>\n",
       "      <td>£475,000</td>\n",
       "      <td>4</td>\n",
       "      <td>3 bedroom semi-detached house for sale</td>\n",
       "    </tr>\n",
       "  </tbody>\n",
       "</table>\n",
       "<p>3633 rows × 4 columns</p>\n",
       "</div>"
      ],
      "text/plain": [
       "                                          Property_Name        Price  \\\n",
       "0               Wimpole Street, Marylebone, London, W1G   £4,250,000   \n",
       "1                          One Hyde Park, Knightsbridge  £60,000,000   \n",
       "2                                  Buckingham Gate, SW1  £45,000,000   \n",
       "3                    Buckingham Gate, Westminster, SW1E  £45,000,000   \n",
       "4     Belgravia Gate, Grosvenor Crescent, Belgravia,...  £43,700,000   \n",
       "...                                                 ...          ...   \n",
       "3628                   The Galleries, Warley, Brentwood   £1,100,000   \n",
       "3629                    The Avenue, Thorndon Park, CM13     £365,000   \n",
       "3630       Broomwood Gardens, Pilgrims Hatch, Brentwood     £700,000   \n",
       "3631                 Thorndales, St. Johns Avenue, CM14   £2,700,000   \n",
       "3632                     Hay Green Lane, Hook End, CM15     £475,000   \n",
       "\n",
       "     No_of_Bedroom                            Property_type  \n",
       "0                3                                Apartment  \n",
       "1                5                                Apartment  \n",
       "2                9                                 Terraced  \n",
       "3                8                                 Terraced  \n",
       "4                6                            Not Specified  \n",
       "...            ...                                      ...  \n",
       "3628             4        4 bedroom detached house for sale  \n",
       "3629             4  2 bedroom end of terrace house for sale  \n",
       "3630             3        4 bedroom detached house for sale  \n",
       "3631             3        6 bedroom detached house for sale  \n",
       "3632             4   3 bedroom semi-detached house for sale  \n",
       "\n",
       "[3633 rows x 4 columns]"
      ]
     },
     "execution_count": 91,
     "metadata": {},
     "output_type": "execute_result"
    }
   ],
   "source": [
    "df = pd.DataFrame(list(zip(name_address,price,bedroom,p_type)), columns=['Property_Name', 'Price','No_of_Bedroom','Property_type'])\n",
    "df"
   ]
  },
  {
   "cell_type": "code",
   "execution_count": 92,
   "id": "5cad9fc4",
   "metadata": {},
   "outputs": [],
   "source": [
    "df.to_csv('property.csv', na_rep='NULL')"
   ]
  },
  {
   "cell_type": "code",
   "execution_count": null,
   "id": "ff846495",
   "metadata": {},
   "outputs": [],
   "source": []
  }
 ],
 "metadata": {
  "kernelspec": {
   "display_name": "Python 3 (ipykernel)",
   "language": "python",
   "name": "python3"
  },
  "language_info": {
   "codemirror_mode": {
    "name": "ipython",
    "version": 3
   },
   "file_extension": ".py",
   "mimetype": "text/x-python",
   "name": "python",
   "nbconvert_exporter": "python",
   "pygments_lexer": "ipython3",
   "version": "3.10.9"
  }
 },
 "nbformat": 4,
 "nbformat_minor": 5
}
